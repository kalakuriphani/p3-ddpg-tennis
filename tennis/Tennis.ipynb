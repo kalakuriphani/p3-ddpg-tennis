{
 "cells": [
  {
   "cell_type": "markdown",
   "metadata": {},
   "source": [
    "# Collaboration and Competition\n",
    "\n",
    "---\n",
    "\n",
    "In this notebook, you will learn how to use the Unity ML-Agents environment for the third project of the [Deep Reinforcement Learning Nanodegree](https://www.udacity.com/course/deep-reinforcement-learning-nanodegree--nd893) program.\n",
    "\n",
    "### 1. Start the Environment\n",
    "\n",
    "We begin by importing the necessary packages.  If the code cell below returns an error, please revisit the project instructions to double-check that you have installed [Unity ML-Agents](https://github.com/Unity-Technologies/ml-agents/blob/master/docs/Installation.md) and [NumPy](http://www.numpy.org/)."
   ]
  },
  {
   "cell_type": "code",
   "execution_count": 1,
   "metadata": {},
   "outputs": [],
   "source": [
    "from unityagents import UnityEnvironment\n",
    "import numpy as np\n",
    "\n",
    "from tennis.maddpg_agent import MADDPG\n",
    "from collections import deque"
   ]
  },
  {
   "cell_type": "markdown",
   "metadata": {},
   "source": [
    "Next, we will start the environment!  **_Before running the code cell below_**, change the `file_name` parameter to match the location of the Unity environment that you downloaded.\n",
    "\n",
    "- **Mac**: `\"path/to/Tennis.app\"`\n",
    "- **Windows** (x86): `\"path/to/Tennis_Windows_x86/Tennis.exe\"`\n",
    "- **Windows** (x86_64): `\"path/to/Tennis_Windows_x86_64/Tennis.exe\"`\n",
    "- **Linux** (x86): `\"path/to/Tennis_Linux/Tennis.x86\"`\n",
    "- **Linux** (x86_64): `\"path/to/Tennis_Linux/Tennis.x86_64\"`\n",
    "- **Linux** (x86, headless): `\"path/to/Tennis_Linux_NoVis/Tennis.x86\"`\n",
    "- **Linux** (x86_64, headless): `\"path/to/Tennis_Linux_NoVis/Tennis.x86_64\"`\n",
    "\n",
    "For instance, if you are using a Mac, then you downloaded `Tennis.app`.  If this file is in the same folder as the notebook, then the line below should appear as follows:\n",
    "```\n",
    "env = UnityEnvironment(file_name=\"Tennis.app\")\n",
    "```"
   ]
  },
  {
   "cell_type": "code",
   "execution_count": 2,
   "metadata": {},
   "outputs": [
    {
     "name": "stderr",
     "output_type": "stream",
     "text": [
      "INFO:unityagents:\n",
      "'Academy' started successfully!\n",
      "Unity Academy name: Academy\n",
      "        Number of Brains: 1\n",
      "        Number of External Brains : 1\n",
      "        Lesson number : 0\n",
      "        Reset Parameters :\n",
      "\t\t\n",
      "Unity brain name: TennisBrain\n",
      "        Number of Visual Observations (per agent): 0\n",
      "        Vector Observation space type: continuous\n",
      "        Vector Observation space size (per agent): 8\n",
      "        Number of stacked Vector Observation: 3\n",
      "        Vector Action space type: continuous\n",
      "        Vector Action space size (per agent): 2\n",
      "        Vector Action descriptions: , \n"
     ]
    }
   ],
   "source": [
    "env = UnityEnvironment(file_name=\"../unity/Tennis.app\")"
   ]
  },
  {
   "cell_type": "markdown",
   "metadata": {},
   "source": [
    "Environments contain **_brains_** which are responsible for deciding the actions of their associated agents. Here we check for the first brain available, and set it as the default brain we will be controlling from Python."
   ]
  },
  {
   "cell_type": "code",
   "execution_count": 3,
   "metadata": {},
   "outputs": [],
   "source": [
    "# get the default brain\n",
    "brain_name = env.brain_names[0]\n",
    "brain = env.brains[brain_name]"
   ]
  },
  {
   "cell_type": "markdown",
   "metadata": {},
   "source": [
    "### 2. Examine the State and Action Spaces\n",
    "\n",
    "In this environment, two agents control rackets to bounce a ball over a net. If an agent hits the ball over the net, it receives a reward of +0.1.  If an agent lets a ball hit the ground or hits the ball out of bounds, it receives a reward of -0.01.  Thus, the goal of each agent is to keep the ball in play.\n",
    "\n",
    "The observation space consists of 8 variables corresponding to the position and velocity of the ball and racket. Two continuous actions are available, corresponding to movement toward (or away from) the net, and jumping. \n",
    "\n",
    "Run the code cell below to print some information about the environment."
   ]
  },
  {
   "cell_type": "code",
   "execution_count": 4,
   "metadata": {},
   "outputs": [
    {
     "name": "stdout",
     "output_type": "stream",
     "text": [
      "Number of agents: 2\n",
      "Size of each action: 2\n",
      "There are 2 agents. Each observes a state with length: 24\n",
      "The state for the first agent looks like: [ 0.          0.          0.          0.          0.          0.\n",
      "  0.          0.          0.          0.          0.          0.\n",
      "  0.          0.          0.          0.         -6.65278625 -1.5\n",
      " -0.          0.          6.83172083  6.         -0.          0.        ]\n"
     ]
    }
   ],
   "source": [
    "# reset the environment\n",
    "env_info = env.reset(train_mode=True)[brain_name]\n",
    "\n",
    "# number of agents \n",
    "num_agents = len(env_info.agents)\n",
    "print('Number of agents:', num_agents)\n",
    "\n",
    "# size of each action\n",
    "action_size = brain.vector_action_space_size\n",
    "print('Size of each action:', action_size)\n",
    "\n",
    "# examine the state space \n",
    "states = env_info.vector_observations\n",
    "state_size = states.shape[1]\n",
    "print('There are {} agents. Each observes a state with length: {}'.format(states.shape[0], state_size))\n",
    "print('The state for the first agent looks like:', states[0])"
   ]
  },
  {
   "cell_type": "markdown",
   "metadata": {},
   "source": [
    "### 3. Take Random Actions in the Environment\n",
    "\n",
    "In the next code cell, you will learn how to use the Python API to control the agents and receive feedback from the environment.\n",
    "\n",
    "Once this cell is executed, you will watch the agents' performance, if they select actions at random with each time step.  A window should pop up that allows you to observe the agents.\n",
    "\n",
    "Of course, as part of the project, you'll have to change the code so that the agents are able to use their experiences to gradually choose better actions when interacting with the environment!"
   ]
  },
  {
   "cell_type": "code",
   "execution_count": 5,
   "metadata": {},
   "outputs": [
    {
     "name": "stdout",
     "output_type": "stream",
     "text": [
      "Score (max over agents) from episode 1: 0.0\n",
      "Score (max over agents) from episode 2: 0.0\n",
      "Score (max over agents) from episode 3: 0.0\n",
      "Score (max over agents) from episode 4: 0.0\n",
      "Score (max over agents) from episode 5: 0.0\n"
     ]
    }
   ],
   "source": [
    "for i in range(1, 6):                                      # play game for 5 episodes\n",
    "    env_info = env.reset(train_mode=False)[brain_name]     # reset the environment    \n",
    "    states = env_info.vector_observations                  # get the current state (for each agent)\n",
    "    scores = np.zeros(num_agents)                          # initialize the score (for each agent)\n",
    "    while True:\n",
    "        actions = np.random.randn(num_agents, action_size) # select an action (for each agent)\n",
    "        actions = np.clip(actions, -1, 1)                  # all actions between -1 and 1\n",
    "        env_info = env.step(actions)[brain_name]           # send all actions to tne environment\n",
    "        next_states = env_info.vector_observations         # get next state (for each agent)\n",
    "        rewards = env_info.rewards                         # get reward (for each agent)\n",
    "        dones = env_info.local_done                        # see if episode finished\n",
    "        scores += env_info.rewards                         # update the score (for each agent)\n",
    "        states = next_states                               # roll over states to next time step\n",
    "        if np.any(dones):                                  # exit loop if episode finished\n",
    "            break\n",
    "    print('Score (max over agents) from episode {}: {}'.format(i, np.max(scores)))"
   ]
  },
  {
   "cell_type": "markdown",
   "metadata": {},
   "source": [
    "When finished, you can close the environment."
   ]
  },
  {
   "cell_type": "code",
   "execution_count": 6,
   "metadata": {},
   "outputs": [],
   "source": [
    "#env.close()\n"
   ]
  },
  {
   "cell_type": "markdown",
   "source": [
    "# Training\n",
    "\n"
   ],
   "metadata": {
    "collapsed": false,
    "pycharm": {
     "name": "#%% md\n"
    }
   },
   "execution_count": 8
  },
  {
   "cell_type": "code",
   "execution_count": 7,
   "outputs": [],
   "source": [
    "state_dim = int(env_info.vector_observations.shape[1])\n",
    "action_dim = int(brain.vector_action_space_size)"
   ],
   "metadata": {
    "collapsed": false,
    "pycharm": {
     "name": "#%%\n"
    }
   }
  },
  {
   "cell_type": "code",
   "execution_count": 8,
   "outputs": [
    {
     "name": "stdout",
     "output_type": "stream",
     "text": [
      "Random seed value: 66\n"
     ]
    }
   ],
   "source": [
    "random_seed = round(np.random.rand() * 100)\n",
    "print(f\"Random seed value: {random_seed}\")\n"
   ],
   "metadata": {
    "collapsed": false,
    "pycharm": {
     "name": "#%%\n"
    }
   }
  },
  {
   "cell_type": "code",
   "execution_count": 9,
   "outputs": [],
   "source": [
    "agent = MADDPG(num_agents,state_dim,action_dim,random_seed)"
   ],
   "metadata": {
    "collapsed": false,
    "pycharm": {
     "name": "#%%\n"
    }
   }
  },
  {
   "cell_type": "code",
   "execution_count": 10,
   "outputs": [],
   "source": [
    "def train(n_episodes=2_000,print_every=100):\n",
    "    scores_window = deque(maxlen=print_every)\n",
    "    scores = []\n",
    "    for i_episode in range(1,n_episodes+1):\n",
    "        env_info = env.reset(train_mode=True)[brain_name]\n",
    "        states = env_info.vector_observations\n",
    "        agent.reset()\n",
    "        scores_episodes = np.zeros(num_agents)\n",
    "        while True:\n",
    "            actions = agent.act(states)\n",
    "            env_info = env.step(actions)[brain_name]\n",
    "            next_states = env_info.vector_observations\n",
    "            rewards = env_info.rewards\n",
    "            dones = env_info.local_done\n",
    "            agent.step(states,actions,rewards,next_states,dones)\n",
    "            scores_episodes += rewards\n",
    "            states = next_states\n",
    "\n",
    "            if np.any(dones):\n",
    "                break\n",
    "        score = np.max(scores_episodes)\n",
    "        scores_window.append(score)\n",
    "        scores.append(score)\n",
    "\n",
    "        print('\\rEpisode {}\\tAverage Score: {:.4f}\\tCurrent Score: {:.4f}\\t Max Score: {:.4f}'\n",
    "              .format(i_episode, np.mean(scores_window), score, np.max(scores_window)), end=\"\")\n",
    "\n",
    "        # Save checkpoint every 100 episodes\n",
    "        if i_episode % print_every == 0:\n",
    "            print('\\rEpisode {}\\tAverage Score: {:.4f}'.format(i_episode, np.mean(scores_window)))\n",
    "            agent.saveCheckPoints(False)\n",
    "\n",
    "        #break training if env solved\n",
    "        if np.mean(scores_window) >= 0.5:\n",
    "            agent.saveCheckPoints(True)\n",
    "            break\n",
    "    np.savez('../scores/scores_train.npz', scores)\n",
    "    return scores"
   ],
   "metadata": {
    "collapsed": false,
    "pycharm": {
     "name": "#%%\n"
    }
   }
  },
  {
   "cell_type": "code",
   "execution_count": 11,
   "outputs": [
    {
     "name": "stdout",
     "output_type": "stream",
     "text": [
      "Start Training\n",
      "Episode 9\tAverage Score: 0.0000\tCurrent Score: 0.0000\t Max Score: 0.0000"
     ]
    },
    {
     "name": "stderr",
     "output_type": "stream",
     "text": [
      "/Users/phani/KnowledgeBank/Udacity/Deep-Reinforcement-Learning/p3-ddpg-tennis/tennis/ddpg_agent.py:91: UserWarning: torch.nn.utils.clip_grad_norm is now deprecated in favor of torch.nn.utils.clip_grad_norm_.\n",
      "  nn.utils.clip_grad_norm(self.critic_local.parameters(),1)\n"
     ]
    },
    {
     "name": "stdout",
     "output_type": "stream",
     "text": [
      "Episode 100\tAverage Score: 0.0010\tCurrent Score: 0.0000\t Max Score: 0.1000\n",
      "Episode 200\tAverage Score: 0.0018\tCurrent Score: 0.0000\t Max Score: 0.0900\n",
      "Episode 300\tAverage Score: 0.0048\tCurrent Score: 0.0000\t Max Score: 0.1000\n",
      "Episode 400\tAverage Score: 0.0318\tCurrent Score: 0.0900\t Max Score: 0.1000\n",
      "Episode 500\tAverage Score: 0.0720\tCurrent Score: 0.0000\t Max Score: 0.1000\n",
      "Episode 600\tAverage Score: 0.0755\tCurrent Score: 0.1000\t Max Score: 0.1000\n",
      "Episode 700\tAverage Score: 0.0817\tCurrent Score: 0.0000\t Max Score: 0.1000\n",
      "Episode 800\tAverage Score: 0.0725\tCurrent Score: 0.0900\t Max Score: 0.1000\n",
      "Episode 900\tAverage Score: 0.0862\tCurrent Score: 0.2000\t Max Score: 0.2000\n",
      "Episode 1000\tAverage Score: 0.0970\tCurrent Score: 0.1000\t Max Score: 0.3000\n",
      "Episode 1100\tAverage Score: 0.0971\tCurrent Score: 0.1000\t Max Score: 0.2000\n",
      "Episode 1200\tAverage Score: 0.1200\tCurrent Score: 0.1000\t Max Score: 0.3000\n",
      "Episode 1300\tAverage Score: 0.2229\tCurrent Score: 0.1000\t Max Score: 1.3000\n",
      "Episode 1400\tAverage Score: 0.4374\tCurrent Score: 0.2000\t Max Score: 2.6000\n",
      "Episode 1412\tAverage Score: 0.5036\tCurrent Score: 1.0000\t Max Score: 2.6000Training Completed\n"
     ]
    }
   ],
   "source": [
    "%timeit\n",
    "print(\"Start Training\")\n",
    "scores = train(2000,100)\n",
    "print(\"Training Completed\")"
   ],
   "metadata": {
    "collapsed": false,
    "pycharm": {
     "name": "#%%\n"
    }
   }
  },
  {
   "cell_type": "code",
   "execution_count": 12,
   "outputs": [
    {
     "data": {
      "text/plain": "<Figure size 432x288 with 1 Axes>",
      "image/png": "[encoded data removed]"
     },
     "metadata": {
      "needs_background": "light"
     },
     "output_type": "display_data"
    }
   ],
   "source": [
    "import matplotlib.pyplot as plt\n",
    "plt.plot(scores)\n",
    "plt.xlabel(\"Episode Number\")\n",
    "plt.ylabel(\"score\")\n",
    "plt.title(\"Score vs Episode number for competitive agents\")\n",
    "plt.show()\n"
   ],
   "metadata": {
    "collapsed": false,
    "pycharm": {
     "name": "#%%\n"
    }
   }
  },
  {
   "cell_type": "code",
   "execution_count": 13,
   "outputs": [
    {
     "data": {
      "text/plain": "<Figure size 432x288 with 1 Axes>",
      "image/png": "[encoded data removed]"
     },
     "metadata": {
      "needs_background": "light"
     },
     "output_type": "display_data"
    }
   ],
   "source": [
    "import pandas as pd\n",
    "#perform rolling average\n",
    "df = pd.DataFrame(scores)\n",
    "df.rolling(window=round(0.1*len(scores))).mean().plot()\n",
    "plt.xlabel(\"Episode number\")\n",
    "plt.ylabel(\"Rolling Score\")\n",
    "plt.title(\"Score vs Episode number for Competitive agents\")\n",
    "plt.show()\n"
   ],
   "metadata": {
    "collapsed": false,
    "pycharm": {
     "name": "#%%\n"
    }
   }
  },
  {
   "cell_type": "markdown",
   "source": [
    "# Testing\n",
    "\n"
   ],
   "metadata": {
    "collapsed": false,
    "pycharm": {
     "name": "#%% md\n"
    }
   }
  },
  {
   "cell_type": "code",
   "execution_count": 18,
   "outputs": [],
   "source": [
    "agent = MADDPG(num_agents, state_dim, action_dim, random_seed)\n",
    "#Load agent\n",
    "agent.loadCheckPoints(isFinal=True)"
   ],
   "metadata": {
    "collapsed": false,
    "pycharm": {
     "name": "#%%\n"
    }
   }
  },
  {
   "cell_type": "code",
   "execution_count": 19,
   "outputs": [],
   "source": [
    "def test(n_episodes=30):\n",
    "    scores = []\n",
    "    for i_episode in range(1, n_episodes+1):\n",
    "        env_info = env.reset(train_mode=True)[brain_name]\n",
    "        states = env_info.vector_observations\n",
    "\n",
    "        #initialize score value calculations for 2 agents\n",
    "        scores_episode = np.zeros(num_agents)\n",
    "\n",
    "        while True:\n",
    "            actions = agent.act(states)                   #get action from agent\n",
    "            env_info = env.step(actions)[brain_name]      # send actions to the environment\n",
    "            next_states = env_info.vector_observations    # get next states\n",
    "            rewards = env_info.rewards                    # get rewards\n",
    "            dones = env_info.local_done                   # see if episodes finished\n",
    "\n",
    "            #Append stats\n",
    "            scores_episode += rewards\n",
    "            states = next_states\n",
    "\n",
    "            #break if any agents are done\n",
    "            if np.any(dones):\n",
    "                break\n",
    "\n",
    "        #calculate intermediate stats\n",
    "        score = np.max(scores_episode)\n",
    "        scores.append(score)\n",
    "\n",
    "        #display current stats\n",
    "        print('Episode {}\\tAverage Score: {:.4f}\\tCurrent Score: {:.4f}\\t Max Score: {:.4f}'\n",
    "              .format(i_episode, np.mean(scores), score, np.max(scores)))\n",
    "\n",
    "    return scores\n"
   ],
   "metadata": {
    "collapsed": false,
    "pycharm": {
     "name": "#%%\n"
    }
   }
  },
  {
   "cell_type": "code",
   "execution_count": 20,
   "outputs": [
    {
     "name": "stdout",
     "output_type": "stream",
     "text": [
      "Episode 1\tAverage Score: 2.0000\tCurrent Score: 2.0000\t Max Score: 2.0000\n",
      "Episode 2\tAverage Score: 1.4500\tCurrent Score: 0.9000\t Max Score: 2.0000\n",
      "Episode 3\tAverage Score: 1.0000\tCurrent Score: 0.1000\t Max Score: 2.0000\n",
      "Episode 4\tAverage Score: 0.8225\tCurrent Score: 0.2900\t Max Score: 2.0000\n",
      "Episode 5\tAverage Score: 0.6780\tCurrent Score: 0.1000\t Max Score: 2.0000\n",
      "Episode 6\tAverage Score: 0.5817\tCurrent Score: 0.1000\t Max Score: 2.0000\n",
      "Episode 7\tAverage Score: 0.5129\tCurrent Score: 0.1000\t Max Score: 2.0000\n",
      "Episode 8\tAverage Score: 0.4988\tCurrent Score: 0.4000\t Max Score: 2.0000\n",
      "Episode 9\tAverage Score: 0.4878\tCurrent Score: 0.4000\t Max Score: 2.0000\n",
      "Episode 10\tAverage Score: 0.5190\tCurrent Score: 0.8000\t Max Score: 2.0000\n",
      "Episode 11\tAverage Score: 0.4900\tCurrent Score: 0.2000\t Max Score: 2.0000\n",
      "Episode 12\tAverage Score: 0.5325\tCurrent Score: 1.0000\t Max Score: 2.0000\n",
      "Episode 13\tAverage Score: 0.5677\tCurrent Score: 0.9900\t Max Score: 2.0000\n",
      "Episode 14\tAverage Score: 0.5629\tCurrent Score: 0.5000\t Max Score: 2.0000\n",
      "Episode 15\tAverage Score: 0.5987\tCurrent Score: 1.1000\t Max Score: 2.0000\n",
      "Episode 16\tAverage Score: 0.5675\tCurrent Score: 0.1000\t Max Score: 2.0000\n",
      "Episode 17\tAverage Score: 0.5871\tCurrent Score: 0.9000\t Max Score: 2.0000\n",
      "Episode 18\tAverage Score: 0.5872\tCurrent Score: 0.5900\t Max Score: 2.0000\n",
      "Episode 19\tAverage Score: 0.6089\tCurrent Score: 1.0000\t Max Score: 2.0000\n",
      "Episode 20\tAverage Score: 0.5885\tCurrent Score: 0.2000\t Max Score: 2.0000\n",
      "Episode 21\tAverage Score: 0.5938\tCurrent Score: 0.7000\t Max Score: 2.0000\n",
      "Episode 22\tAverage Score: 0.5714\tCurrent Score: 0.1000\t Max Score: 2.0000\n",
      "Episode 23\tAverage Score: 0.5639\tCurrent Score: 0.4000\t Max Score: 2.0000\n",
      "Episode 24\tAverage Score: 0.5529\tCurrent Score: 0.3000\t Max Score: 2.0000\n",
      "Episode 25\tAverage Score: 0.5348\tCurrent Score: 0.1000\t Max Score: 2.0000\n",
      "Episode 26\tAverage Score: 0.5177\tCurrent Score: 0.0900\t Max Score: 2.0000\n",
      "Episode 27\tAverage Score: 0.5281\tCurrent Score: 0.8000\t Max Score: 2.0000\n",
      "Episode 28\tAverage Score: 0.5700\tCurrent Score: 1.7000\t Max Score: 2.0000\n",
      "Episode 29\tAverage Score: 0.5814\tCurrent Score: 0.9000\t Max Score: 2.0000\n",
      "Episode 30\tAverage Score: 0.6220\tCurrent Score: 1.8000\t Max Score: 2.0000\n"
     ]
    }
   ],
   "source": [
    "test_scores = test()\n"
   ],
   "metadata": {
    "collapsed": false,
    "pycharm": {
     "name": "#%%\n"
    }
   }
  },
  {
   "cell_type": "code",
   "execution_count": 21,
   "outputs": [
    {
     "data": {
      "text/plain": "<Figure size 432x288 with 1 Axes>",
      "image/png": "[encoded data removed]"
     },
     "metadata": {
      "needs_background": "light"
     },
     "output_type": "display_data"
    }
   ],
   "source": [
    "plt.plot(test_scores)\n",
    "plt.xlabel(\"Episode number\")\n",
    "plt.ylabel(\"Score\")\n",
    "plt.title(\"Test\")\n",
    "plt.show()"
   ],
   "metadata": {
    "collapsed": false,
    "pycharm": {
     "name": "#%%\n"
    }
   }
  },
  {
   "cell_type": "code",
   "execution_count": null,
   "outputs": [],
   "source": [],
   "metadata": {
    "collapsed": false,
    "pycharm": {
     "name": "#%%\n"
    }
   }
  }
 ],
 "metadata": {
  "kernelspec": {
   "name": "ddpg",
   "language": "python",
   "display_name": "ddpg"
  },
  "language_info": {
   "codemirror_mode": {
    "name": "ipython",
    "version": 3
   },
   "file_extension": ".py",
   "mimetype": "text/x-python",
   "name": "python",
   "nbconvert_exporter": "python",
   "pygments_lexer": "ipython3",
   "version": "3.6.4"
  }
 },
 "nbformat": 4,
 "nbformat_minor": 2
}